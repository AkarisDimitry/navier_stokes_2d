{
  "nbformat": 4,
  "nbformat_minor": 0,
  "metadata": {
    "colab": {
      "provenance": [],
      "authorship_tag": "ABX9TyNnsqg30zg1QclFtL0T8f4D",
      "include_colab_link": true
    },
    "kernelspec": {
      "name": "python3",
      "display_name": "Python 3"
    },
    "language_info": {
      "name": "python"
    }
  },
  "cells": [
    {
      "cell_type": "markdown",
      "metadata": {
        "id": "view-in-github",
        "colab_type": "text"
      },
      "source": [
        "<a href=\"https://colab.research.google.com/github/AkarisDimitry/navier_stokes_2d/blob/main/navier_stokes_2d.ipynb\" target=\"_parent\"><img src=\"https://colab.research.google.com/assets/colab-badge.svg\" alt=\"Open In Colab\"/></a>"
      ]
    },
    {
      "cell_type": "markdown",
      "source": [
        "# 1. Code to solve the Navier-Stokes equations in 2D\n",
        "\n",
        "In this code, we use the finite difference method to solve the 2D Navier-Stokes equations for incompressible flow. The Navier-Stokes equations describe fluid motion and are composed of conservation of mass and momentum.\n",
        "\n",
        "The finite difference method allows us to discretize the domain and the equations to obtain an approximate numerical solution. Here, we use a discretization on a regular mesh in two dimensions.\n",
        "\n",
        "The coupled Navier-Stokes equations are solved using a projection approach, where a provisional velocity is first calculated and then corrected using a Poisson equation for pressure.\n",
        "\n",
        "The discretized system of equations is solved iteratively in time, updating the velocities and pressure at each step. In the end, we get the updated velocity and pressure fields.\n",
        "\n",
        "The 2D Navier-Stokes equations can be written as:\n",
        "\n",
        "\\begin{align}\n",
        "\\frac{{\\partial u}}{{\\partial t}} + u \\frac{{\\partial u}}{{\\partial x}} + v \\frac{{\\partial u}}{{\\partial y}} = \\nu \\left( \\frac{{\\partial^2 u}}{{\\partial x^2}} + \\frac{{\\partial^2 u}}{{\\partial y^2}} \\right)\n",
        "\\end{align}\n",
        "\n",
        "\\begin{align}\n",
        "\\frac{{\\partial v}}{{\\partial t}} + u \\frac{{\\partial v}}{{\\partial x}} + v \\frac{{\\partial v}}{{\\partial y}} = \\nu \\left( \\frac{{\\partial^2 v}}{{\\partial x^2}} + \\frac{{\\partial^2 v}}{{\\partial y^2}} \\right)\n",
        "\\end{align}\n",
        "\n",
        "\\begin{align}\n",
        "\\frac{{\\partial u}}{{\\partial x}} + \\frac{{\\partial v}}{{\\partial y}} = 0\n",
        "\\end{align}\n",
        "\n",
        "Where $\\left( u \\right)$ and $\\left( v \\right)$ are the components of velocity in the x and y directions, respectively. \\( $\\nu$ \\) is the viscosity of the fluid.\n",
        "\n",
        "Let's solve the Navier-Stokes equations and see the results!"
      ],
      "metadata": {
        "id": "XNNAYohkJIcN"
      }
    },
    {
      "cell_type": "code",
      "source": [
        "import numpy as np\n",
        "import matplotlib.pyplot as plt\n",
        "import matplotlib.animation as animation\n",
        "from numba import jit, float64, int64\n",
        "from numba.types import Tuple\n"
      ],
      "metadata": {
        "id": "cVSchKPSLLJE"
      },
      "execution_count": 2,
      "outputs": []
    },
    {
      "cell_type": "markdown",
      "source": [],
      "metadata": {
        "id": "QSPe_By0K48M"
      }
    },
    {
      "cell_type": "markdown",
      "source": [
        "# 2. Code implementation\n",
        "\n",
        "Here is the Python code that solves the Navier-Stokes equations using the finite difference method...\n",
        "\n",
        "The `navier_stokes_2d` function solves the 2D incompressible Navier-Stokes equations using the finite difference method. The function takes the following parameters:\n",
        "\n",
        "\n",
        "* u (numpy.ndarray): Velocity field in the x direction.\n",
        "* v (numpy.ndarray): Velocity field in the y direction.\n",
        "* p (numpy.ndarray): Pressure field.\n",
        "* rho (float): Fluid density.\n",
        "* nu (float): Fluid viscosity.\n",
        "* dx (float): Step size in the x direction.\n",
        "* dy (float): Step size in the y direction.\n",
        "* dt (float): Step size in time.\n",
        "* nx (int): Number of points in the x direction.\n",
        "* ny (int): Number of points in the y direction.\n",
        "* nt (int): Number of time steps.\n",
        "\n",
        "The function returns the updated velocity fields \\texttt{u} and \\texttt{v}, as well as the updated pressure field \\texttt{p}.\n",
        "\n",
        "The implementation of the function involves the following steps:\n",
        "\n",
        "1. Velocity predictions:\n",
        "   \\begin{align}\n",
        "   u^* = u^n - \\left(u^n \\frac{\\Delta t}{\\Delta x} (u^n - u^n_{i-1,j}) - v^n \\frac{\\Delta t}{\\Delta y} (u^n - u^n_{i,j-1}) + \\nu \\frac{\\Delta t}{\\Delta x^2} (u^n_{i+1,j} - 2u^n_{i,j} + u^n_{i-1,j}) + \\nu \\frac{\\Delta t}{\\Delta y^2} (u^n_{i,j+1} - 2u^n_{i,j} + u^n_{i,j-1})\\right)\n",
        "   \\end{align}\n",
        "   \\begin{align}\n",
        "   v^* = v^n - \\left(u^n \\frac{\\Delta t}{\\Delta x} (v^n - v^n_{i-1,j}) - v^n \\frac{\\Delta t}{\\Delta y} (v^n - v^n_{i,j-1}) + \\nu \\frac{\\Delta t}{\\Delta x^2} (v^n_{i+1,j} - 2v^n_{i,j} + v^n_{i-1,j}) + \\nu \\frac{\\Delta t}{\\Delta y^2} (v^n_{i,j+1} - 2v^n_{i,j} + v^n_{i,j-1})\\right)\n",
        "   \\end{align}\n",
        "\n",
        "2. Solving the Poisson equation for pressure:\n",
        "   \\begin{align}\n",
        "   p^{n+1}_{i,j} = \\frac{1}{2(\\Delta x^2 + \\Delta y^2)} \\left((p^n_{i+1,j} + p^n_{i-1,j}) \\Delta y^2 + (p^n_{i,j+1} + p^n_{i,j-1}) \\Delta x^2 - \\frac{\\Delta x^2 \\Delta y^2}{2(\\Delta x^2 + \\Delta y^2)} \\left(\\frac{u^*_{i+1,j} - u^*_{i-1,j}}{2\\Delta x} + \\frac{v^*_{i,j+1} - v^*_{i,j-1}}{2\\Delta y}\\right)\\right)\n",
        "   \\end{align}\n",
        "\n",
        "3. Velocity corrections:\n",
        "   \\begin{align}\n",
        "   u^{n+1}_{i,j} = u^*_{i,j} - \\frac{\\Delta t}{\\Delta x} (p^{n+1}_{i+1,j} - p^{n+1}_{i-1,j})\n",
        "   \\end{align}\n",
        "   \\begin{align}\n",
        "   v^{n+1}_{i,j} = v^*_{i,j} - \\frac{\\Delta t}{\\Delta y} (p^{n+1}_{i,j+1} - p^{n+1}_{i,j-1})\n",
        "   \\end{align}"
      ],
      "metadata": {
        "id": "gvdvrXOXK6Bx"
      }
    },
    {
      "cell_type": "code",
      "source": [
        "\n",
        "def navier_stokes_2d(u, v, p, rho, nu, dx, dy, dt, nx, ny, nt):\n",
        "    \"\"\"\n",
        "    Solve the Navier-Stokes equations for an incompressible 2D flow using the finite difference method.\n",
        "\n",
        "    Parameters:\n",
        "    u (numpy.ndarray): velocity field in the x direction.\n",
        "    v (numpy.ndarray): velocity field in the y direction.\n",
        "    p (numpy.ndarray): pressure field.\n",
        "    rho (float): fluid density.\n",
        "    nu (float): fluid viscosity.\n",
        "    dx (float): step size in the x direction.\n",
        "    dy (float): step size in the y direction.\n",
        "    dt (float): step size in time.\n",
        "    nx (int): number of points in the x direction.\n",
        "    ny (int): number of points in the y direction.\n",
        "    nt (int): number of time steps.\n",
        "\n",
        "    Returns:\n",
        "    u (numpy.ndarray): updated velocity field in the x direction.\n",
        "    v (numpy.ndarray): updated velocity field in the y direction.\n",
        "    p (numpy.ndarray): updated pressure field.\n",
        "    \"\"\"\n",
        "    \n",
        "    # Velocity predictions\n",
        "    u_star = u.copy()\n",
        "    v_star = v.copy()\n",
        "    \n",
        "    for n in range(nt):\n",
        "        un = u.copy()\n",
        "        vn = v.copy()\n",
        "\n",
        "        # Momentum equations\n",
        "        u_star[1:-1, 1:-1] = (un[1:-1, 1:-1] - \n",
        "                               dt / dx * un[1:-1, 1:-1] * (un[1:-1, 1:-1] - un[:-2, 1:-1]) -\n",
        "                               dt / dy * vn[1:-1, 1:-1] * (un[1:-1, 1:-1] - un[1:-1, :-2]) +\n",
        "                               nu * dt / dx**2 * (un[2:, 1:-1] - 2 * un[1:-1, 1:-1] + un[:-2, 1:-1]) +\n",
        "                               nu * dt / dy**2 * (un[1:-1, 2:] - 2 * un[1:-1, 1:-1] + un[1:-1, :-2]))\n",
        "\n",
        "        v_star[1:-1, 1:-1] = (vn[1:-1, 1:-1] -\n",
        "                               dt / dx * un[1:-1, 1:-1] * (vn[1:-1, 1:-1] - vn[:-2, 1:-1]) -\n",
        "                               dt / dy * vn[1:-1, 1:-1] * (vn[1:-1, 1:-1] - vn[1:-1, :-2]) +\n",
        "                               nu * dt / dx**2 * (vn[2:, 1:-1] - 2 * vn[1:-1, 1:-1] + vn[:-2, 1:-1]) +\n",
        "                               nu * dt / dy**2 * (vn[1:-1, 2:] - 2 * vn[1:-1, 1:-1] + vn[1:-1, :-2]))\n",
        "\n",
        "        # Solving the Poisson equation for pressure\n",
        "        pn = p.copy()\n",
        "        p[1:-1, 1:-1] = (((pn[2:, 1:-1] + pn[:-2, 1:-1]) * dy**2 + \n",
        "                          (pn[1:-1, 2:] + pn[1:-1, :-2]) * dx**2) /\n",
        "                          (2 * (dx**2 + dy**2)) -\n",
        "                          dx**2 * dy**2 / (2 * (dx**2 + dy**2)) * \n",
        "                          ((u_star[2:, 1:-1] - u_star[:-2, 1:-1]) / (2 * dx) +\n",
        "                           (v_star[1:-1, 2:] - v_star[1:-1, :-2]) / (2 * dy)))\n",
        "\n",
        "        # Velocity corrections\n",
        "        u[1:-1, 1:-1] = u_star[1:-1, 1:-1] - dt / dx * (p[2:, 1:-1] - p[:-2, 1:-1])\n",
        "        v[1:-1, 1:-1] = v_star[1:-1, 1:-1] - dt / dy * (p[1:-1, 2:] - p[1:-1, :-2])\n",
        "\n",
        "    return u, v, p\n"
      ],
      "metadata": {
        "id": "5Ds70g0DLAYP"
      },
      "execution_count": 3,
      "outputs": []
    },
    {
      "cell_type": "markdown",
      "source": [
        "3. Initialization and variable representation\n",
        "\n",
        "To initialize the variables and perform the simulation, the following variables need to be defined:\n",
        "\n",
        "* `u` (numpy.ndarray): The velocity field in the x direction. This represents the fluid velocity component in the x direction at each grid point.\n",
        "* `v` (numpy.ndarray): The velocity field in the y direction. This represents the fluid velocity component in the y direction at each grid point.\n",
        "* `p` (numpy.ndarray): The pressure field. This represents the pressure at each grid point.\n",
        "* `rho` (float): The fluid density. This parameter determines the mass per unit volume of the fluid.\n",
        "* `nu` (float): The fluid viscosity. This parameter determines the resistance to flow within the fluid.\n",
        "* `dx` (float): The step size in the x direction. This represents the spacing between adjacent grid points in the x direction.\n",
        "* `dy` (float): The step size in the y direction. This represents the spacing between adjacent grid points in the y direction.\n",
        "* `dt` (float): The step size in time. This determines the time interval between each iteration of the simulation.\n",
        "* `nx` (int): The number of points in the x direction. This represents the total number of grid points in the x direction.\n",
        "* `ny` (int): The number of points in the y direction. This represents the total number of grid points in the y direction.\n",
        "* `nt` (int): The number of time steps. This determines the total number of iterations for the simulation.\n",
        "\n",
        "These variables should be initialized with appropriate values before calling the `navier_stokes_2d` function to ensure a proper simulation of the fluid flow.\n"
      ],
      "metadata": {
        "id": "8pW-9RJaMaxI"
      }
    },
    {
      "cell_type": "code",
      "source": [
        "\n",
        "Nx, Ny = 100, 100  # number of grid points in x and y direction\n",
        "T = 75  # total time\n",
        "\n",
        "u = np.zeros((Nx, Ny))\n",
        "v = np.zeros((Nx, Ny))\n",
        "p = np.zeros((Nx, Ny))\n",
        "\n",
        "\n",
        "# Definición de las dimensiones\n",
        "\n",
        "sigma = 15.0  # Desviación estándar\n",
        "mu_x = Nx / 2  # Media en el eje x\n",
        "mu_y = Ny / 2  # Media en el eje y\n",
        "x = np.linspace(0, Nx, Nx) # Creación de los arrays 1D para x e y\n",
        "y = np.linspace(0, Ny, Ny) # Creación de los arrays 1D para x e y\n",
        "X, Y = np.meshgrid(x, y)\n",
        "\n",
        "u[0, 40:60] = 2\n",
        "v[40:60, 0] = 2\n",
        "u -= np.exp(-0.5 * ((X - mu_x)**2 + (Y - mu_y)**2) / sigma**2) * 1.5\n",
        "v -= np.exp(-0.5 * ((X - mu_x)**2 + (Y - mu_y)**2) / sigma**2) * 1.5\n",
        "\n",
        "rho =  0.1 \n",
        "nu = 0.01\n",
        "dx = 0.01\n",
        "dy = 0.01\n",
        "dt = 0.0001\n",
        "\n",
        "# number of grid points in x and y direction\n",
        "nx = Nx\n",
        "ny = Ny\n"
      ],
      "metadata": {
        "id": "kjaRwLC3MqPI"
      },
      "execution_count": 4,
      "outputs": []
    },
    {
      "cell_type": "markdown",
      "source": [
        "4. Visualization\n",
        "\n",
        "To visualize the results of the Navier-Stokes simulation, we can create a plot of the velocity magnitude at each grid point in the domain. This will give us a visual representation of the flow patterns.\n",
        "\n",
        "To do this, we can use the `imshow` function from the `matplotlib.pyplot` module. The `imshow` function takes a 2D array as input and creates a color plot where the color intensity represents the magnitude of the values in the array.\n",
        "\n",
        "In our case, we can calculate the magnitude of the velocity at each grid point using the formula:\n",
        "\n",
        "  \\begin{align}\n",
        "  \n",
        "  $magnitude = \\sqrt{u^2 + v^2}$\n",
        "\n",
        "  \\end{aling}\n",
        "\n",
        "where \\text{{u}} and \\text{{v}} are the velocity fields in the x and y directions, respectively.\n",
        "\n",
        "We can then create a figure and an axis using the `subplots` function from `matplotlib.pyplot`, and use the `imshow` function to create the color plot. Finally, we can display the plot using the `show` function.\n",
        "\n",
        "Here's an example code snippet:\n",
        "\n",
        "```python\n",
        "import matplotlib.pyplot as plt\n",
        "\n",
        "# Create a figure and axis\n",
        "fig, ax = plt.subplots()\n",
        "\n",
        "# Create the color plot using imshow\n",
        "img = ax.imshow(magnitude, cmap='viridis')\n",
        "\n",
        "# Display the plot\n",
        "plt.show()"
      ],
      "metadata": {
        "id": "5EbEtntdM2XU"
      }
    },
    {
      "cell_type": "code",
      "source": [
        "\n",
        "# simulate over T time steps\n",
        "u, v, p = navier_stokes_2d(u, v, p, rho, nu, dx, dy, dt, nx, ny, 1)\n",
        "\n",
        "fig, ax = plt.subplots()\n",
        "img = ax.imshow(np.sqrt(u**2 + v**2), cmap='viridis')\n",
        "\n",
        "# Function to update the image for each time step\n",
        "def update(i):\n",
        "    global u, v, p\n",
        "    u, v, p = navier_stokes_2d(u, v, p, rho, nu, dx, dy, dt, nx, ny, 50)\n",
        "    img.set_data(np.sqrt(u**2 + v**2))\n",
        "    return img,\n",
        "\n",
        "# Animation of the solution\n",
        "ani = animation.FuncAnimation(fig, update, frames=10, blit=True)\n",
        "\n",
        "# Save the animation as a mp4 file\n",
        "ani.save('navier_stokes.mp4', writer='ffmpeg')\n",
        "\n",
        "# Show the plot\n",
        "plt.show()"
      ],
      "metadata": {
        "colab": {
          "base_uri": "https://localhost:8080/",
          "height": 659
        },
        "id": "27QCzhiwNMj7",
        "outputId": "11efc696-7b31-48a7-d1ae-c181691cc79c"
      },
      "execution_count": 5,
      "outputs": [
        {
          "output_type": "stream",
          "name": "stdout",
          "text": [
            "0\n",
            "0\n",
            "0\n",
            "0\n",
            "1\n",
            "2\n",
            "3\n",
            "4\n",
            "5\n",
            "6\n",
            "7\n",
            "8\n",
            "9\n"
          ]
        },
        {
          "output_type": "display_data",
          "data": {
            "text/plain": [
              "<Figure size 640x480 with 1 Axes>"
            ],
            "image/png": "[encoded data removed]"
          },
          "metadata": {}
        }
      ]
    }
  ]
}